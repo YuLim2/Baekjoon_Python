{
 "cells": [
  {
   "cell_type": "code",
   "execution_count": 4,
   "metadata": {
    "collapsed": true
   },
   "outputs": [],
   "source": [
    "from pytrends.request import TrendReq\n",
    "import pandas as pd\n",
    "\n",
    "pytrends = TrendReq(hl='ko', tz=360)"
   ]
  },
  {
   "cell_type": "code",
   "execution_count": 16,
   "outputs": [
    {
     "data": {
      "text/plain": "            0\n0         임창정\n1         윤여정\n2         김우빈\n3         김종국\n4         테슬라\n5   TV chosun\n6          엔화\n7         장제원\n8        윌스미스\n9         이준석\n10       뉴발란스\n11         코다\n12        장기하\n13        이세희\n14     에디슨모터스\n15     정보처리기사\n16        MBC\n17      에디슨EV\n18    모코코 굿즈샵\n19        트로트",
      "text/html": "<div>\n<style scoped>\n    .dataframe tbody tr th:only-of-type {\n        vertical-align: middle;\n    }\n\n    .dataframe tbody tr th {\n        vertical-align: top;\n    }\n\n    .dataframe thead th {\n        text-align: right;\n    }\n</style>\n<table border=\"1\" class=\"dataframe\">\n  <thead>\n    <tr style=\"text-align: right;\">\n      <th></th>\n      <th>0</th>\n    </tr>\n  </thead>\n  <tbody>\n    <tr>\n      <th>0</th>\n      <td>임창정</td>\n    </tr>\n    <tr>\n      <th>1</th>\n      <td>윤여정</td>\n    </tr>\n    <tr>\n      <th>2</th>\n      <td>김우빈</td>\n    </tr>\n    <tr>\n      <th>3</th>\n      <td>김종국</td>\n    </tr>\n    <tr>\n      <th>4</th>\n      <td>테슬라</td>\n    </tr>\n    <tr>\n      <th>5</th>\n      <td>TV chosun</td>\n    </tr>\n    <tr>\n      <th>6</th>\n      <td>엔화</td>\n    </tr>\n    <tr>\n      <th>7</th>\n      <td>장제원</td>\n    </tr>\n    <tr>\n      <th>8</th>\n      <td>윌스미스</td>\n    </tr>\n    <tr>\n      <th>9</th>\n      <td>이준석</td>\n    </tr>\n    <tr>\n      <th>10</th>\n      <td>뉴발란스</td>\n    </tr>\n    <tr>\n      <th>11</th>\n      <td>코다</td>\n    </tr>\n    <tr>\n      <th>12</th>\n      <td>장기하</td>\n    </tr>\n    <tr>\n      <th>13</th>\n      <td>이세희</td>\n    </tr>\n    <tr>\n      <th>14</th>\n      <td>에디슨모터스</td>\n    </tr>\n    <tr>\n      <th>15</th>\n      <td>정보처리기사</td>\n    </tr>\n    <tr>\n      <th>16</th>\n      <td>MBC</td>\n    </tr>\n    <tr>\n      <th>17</th>\n      <td>에디슨EV</td>\n    </tr>\n    <tr>\n      <th>18</th>\n      <td>모코코 굿즈샵</td>\n    </tr>\n    <tr>\n      <th>19</th>\n      <td>트로트</td>\n    </tr>\n  </tbody>\n</table>\n</div>"
     },
     "execution_count": 16,
     "metadata": {},
     "output_type": "execute_result"
    }
   ],
   "source": [
    "pytrends.trending_searches(pn='south_korea')"
   ],
   "metadata": {
    "collapsed": false,
    "pycharm": {
     "name": "#%%\n"
    }
   }
  },
  {
   "cell_type": "code",
   "execution_count": null,
   "outputs": [],
   "source": [],
   "metadata": {
    "collapsed": false,
    "pycharm": {
     "name": "#%%\n"
    }
   }
  }
 ],
 "metadata": {
  "kernelspec": {
   "display_name": "Python 3",
   "language": "python",
   "name": "python3"
  },
  "language_info": {
   "codemirror_mode": {
    "name": "ipython",
    "version": 2
   },
   "file_extension": ".py",
   "mimetype": "text/x-python",
   "name": "python",
   "nbconvert_exporter": "python",
   "pygments_lexer": "ipython2",
   "version": "2.7.6"
  }
 },
 "nbformat": 4,
 "nbformat_minor": 0
}